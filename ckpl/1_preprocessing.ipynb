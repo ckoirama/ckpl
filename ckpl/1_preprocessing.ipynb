{
 "cells": [
  {
   "cell_type": "code",
   "execution_count": 1,
   "metadata": {},
   "outputs": [],
   "source": [
    "import os\n",
    "import astropy.io.fits as fits"
   ]
  },
  {
   "cell_type": "code",
   "execution_count": 2,
   "metadata": {},
   "outputs": [],
   "source": [
    "directory = '/home/ed-ortizm/GDrive/Ckoirama/2019-05-19'"
   ]
  },
  {
   "cell_type": "code",
   "execution_count": 3,
   "metadata": {},
   "outputs": [],
   "source": [
    "def split_case(img_list):\n",
    "    science = open('science.txt','w')\n",
    "    bias = open('bias.txt','w')\n",
    "    flat = open('flat.txt','w')\n",
    "    dark = open('darks.txt','w')\n",
    "    \n",
    "    science.close()\n",
    "    bias.close()\n",
    "    flat.close()\n",
    "    dark.close()\n",
    "    \n",
    "    return('Splitting done')"
   ]
  },
  {
   "cell_type": "code",
   "execution_count": 4,
   "metadata": {},
   "outputs": [],
   "source": [
    "def img_list(directory,comma = False):\n",
    "    cwd = os.getcwd()\n",
    "    print(cwd)\n",
    "    if comma:\n",
    "        ls_txt = open('_list.csv','w')\n",
    "    else:\n",
    "        ls_txt = open('_list.tsv','w')\n",
    "    os.chdir(directory)\n",
    "    files_list = os.listdir()\n",
    "    \n",
    "    for file in files_list:\n",
    "        hdu = fits.open(file)\n",
    "        header = hdu[0].header\n",
    "        #parameter we want to list for our pipeline\n",
    "        obj = header['OBJECT']\n",
    "        exp_t = header['EXPTIME']\n",
    "        date = header['DATE-OBS']\n",
    "        im_type = header['IMAGETYP']\n",
    "        \n",
    "        if 'FILTER' in header:\n",
    "            filt = header['FILTER']\n",
    "        else:\n",
    "            filt = 'N.A'\n",
    "        os.chdir(cwd)\n",
    "        if comma==True:\n",
    "\n",
    "            ls_txt.write(file + ',' + im_type + ',' + filt + ',' + \\\n",
    "                         obj + ',' + str(exp_t) + ',' + date + '\\n')\n",
    "        else:\n",
    "            ls_txt.write(file + '\\t' + im_type + '\\t' + filt + '\\t' + \\\n",
    "                         obj + '\\t' + str(exp_t) + '\\t' + date + '\\n')\n",
    "        os.chdir(directory)    \n",
    "        hdu.close(file)\n",
    "    os.chdir(cwd)\n",
    "    ls_txt.close()\n",
    "    return('list generated as:' + 'pipl_list.txt' )"
   ]
  },
  {
   "cell_type": "code",
   "execution_count": null,
   "metadata": {},
   "outputs": [],
   "source": []
  }
 ],
 "metadata": {
  "kernelspec": {
   "display_name": "Python 3",
   "language": "python",
   "name": "python3"
  },
  "language_info": {
   "codemirror_mode": {
    "name": "ipython",
    "version": 3
   },
   "file_extension": ".py",
   "mimetype": "text/x-python",
   "name": "python",
   "nbconvert_exporter": "python",
   "pygments_lexer": "ipython3",
   "version": "3.6.7"
  }
 },
 "nbformat": 4,
 "nbformat_minor": 2
}
