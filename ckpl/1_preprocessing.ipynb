{
 "cells": [
  {
   "cell_type": "code",
   "execution_count": 1,
   "metadata": {},
   "outputs": [],
   "source": [
    "import os\n",
    "import astropy.io.fits as fits\n",
    "from tkinter import Tk, filedialog"
   ]
  },
  {
   "cell_type": "code",
   "execution_count": 2,
   "metadata": {},
   "outputs": [],
   "source": [
    "def split_case(img_list):\n",
    "    science = open('science.txt','w')\n",
    "    bias = open('bias.txt','w')\n",
    "    flat = open('flat.txt','w')\n",
    "    dark = open('darks.txt','w')\n",
    "    \n",
    "    science.close()\n",
    "    bias.close()\n",
    "    flat.close()\n",
    "    dark.close()\n",
    "    \n",
    "    return('Splitting done')"
   ]
  },
  {
   "cell_type": "code",
   "execution_count": 3,
   "metadata": {},
   "outputs": [],
   "source": [
    "def imgs_list(comma = False):\n",
    "\n",
    "    root = Tk()\n",
    "    root.withdraw() #use to hide tkinter window\n",
    "\n",
    "    cwd = os.getcwd()\n",
    "    imgs_dir = filedialog.askdirectory(\\\n",
    "                                       parent=root, initialdir=cwd,\\\n",
    "                                       title='Please select images\\' directory')\n",
    "    \n",
    "    if comma:\n",
    "        list_name = imgs_dir + '_list.csv'\n",
    "        ls_txt = open(list_name,'w')\n",
    "    else:\n",
    "        list_name = imgs_dir + '_list.tsv'\n",
    "        ls_txt = open(list_name,'w')\n",
    "        \n",
    "    os.chdir(imgs_dir)\n",
    "    files_list = os.listdir()\n",
    "    \n",
    "    for file in files_list:\n",
    "        hdu = fits.open(file)\n",
    "        header = hdu[0].header\n",
    "        #parameter we want to list for our pipeline\n",
    "        obj = header['OBJECT']\n",
    "        exp_t = header['EXPTIME']\n",
    "        date = header['DATE-OBS']\n",
    "        im_type = header['IMAGETYP']\n",
    "        \n",
    "        if 'FILTER' in header:\n",
    "            filt = header['FILTER']\n",
    "        else:\n",
    "            filt = 'N.A'\n",
    "        os.chdir(cwd)\n",
    "        if comma==True:\n",
    "            ls_txt.write(file + ',' + im_type + ',' + filt + ',' + \\\n",
    "                         obj + ',' + str(exp_t) + ',' + date + '\\n')\n",
    "        else:\n",
    "            ls_txt.write(file + '\\t' + im_type + '\\t' + filt + '\\t' + \\\n",
    "                         obj + '\\t' + str(exp_t) + '\\t' + date + '\\n')\n",
    "        os.chdir(imgs_dir)    \n",
    "        hdu.close(file)\n",
    "    os.chdir(cwd)\n",
    "    ls_txt.close()\n",
    "    return(list_name + ' in ' + imgs_dir )"
   ]
  },
  {
   "cell_type": "code",
   "execution_count": 4,
   "metadata": {},
   "outputs": [
    {
     "data": {
      "text/plain": [
       "'/home/ed-ortizm/GDrive/Ckoirama/2018-09-07_list.csvin/home/ed-ortizm/GDrive/Ckoirama/2018-09-07'"
      ]
     },
     "execution_count": 4,
     "metadata": {},
     "output_type": "execute_result"
    }
   ],
   "source": [
    "imgs_list(True)"
   ]
  },
  {
   "cell_type": "code",
   "execution_count": null,
   "metadata": {},
   "outputs": [],
   "source": []
  }
 ],
 "metadata": {
  "kernelspec": {
   "display_name": "Python 3",
   "language": "python",
   "name": "python3"
  },
  "language_info": {
   "codemirror_mode": {
    "name": "ipython",
    "version": 3
   },
   "file_extension": ".py",
   "mimetype": "text/x-python",
   "name": "python",
   "nbconvert_exporter": "python",
   "pygments_lexer": "ipython3",
   "version": "3.6.7"
  }
 },
 "nbformat": 4,
 "nbformat_minor": 2
}
